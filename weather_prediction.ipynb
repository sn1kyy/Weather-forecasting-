{
  "nbformat": 4,
  "nbformat_minor": 0,
  "metadata": {
    "colab": {
      "provenance": [],
      "mount_file_id": "1Ij2_i3tCcEMeaGUGUvqsIc-0qrcBGmZX",
      "authorship_tag": "ABX9TyPPnuR7eTcjtnPY8p1mnfNz",
      "include_colab_link": true
    },
    "kernelspec": {
      "name": "python3",
      "display_name": "Python 3"
    },
    "language_info": {
      "name": "python"
    }
  },
  "cells": [
    {
      "cell_type": "markdown",
      "metadata": {
        "id": "view-in-github",
        "colab_type": "text"
      },
      "source": [
        "<a href=\"https://colab.research.google.com/github/sn1kyy/Weather-forecasting-/blob/main/weather_prediction.ipynb\" target=\"_parent\"><img src=\"https://colab.research.google.com/assets/colab-badge.svg\" alt=\"Open In Colab\"/></a>"
      ]
    },
    {
      "cell_type": "markdown",
      "source": [
        " 1. import libraries"
      ],
      "metadata": {
        "id": "5NzAkqmFSJiG"
      }
    },
    {
      "cell_type": "code",
      "source": [
        "import requests #helps in fetching data from APIs\n",
        "import pandas as pd\n",
        "import numpy as np\n",
        "from sklearn.model_selection import train_test_split\n",
        "from sklearn.preprocessing import LabelEncoder\n",
        "from sklearn.ensemble import RandomForestClassifier, RandomForestRegressor\n",
        "from sklearn.metrics import mean_squared_error\n",
        "from datetime import datetime, timedelta\n",
        "import pytz"
      ],
      "metadata": {
        "id": "xhPT2_UfSXab"
      },
      "execution_count": 11,
      "outputs": []
    },
    {
      "cell_type": "code",
      "source": [
        "#the API key information\n",
        "api_key = '46521bf9fb4a8ee8b1672f3e7eb8f9a4'\n",
        "BASE_URL = 'https://api.openweathermap.org/data/2.5/weather?lat=44.34&lon=10.99&appid=46521bf9fb4a8ee8b1672f3e7eb8f9a4'"
      ],
      "metadata": {
        "id": "ZGqoIwo2Td-o"
      },
      "execution_count": 12,
      "outputs": []
    },
    {
      "cell_type": "markdown",
      "source": [
        "2. Fetch current weather data"
      ],
      "metadata": {
        "id": "F59J1sKUWktR"
      }
    },
    {
      "cell_type": "code",
      "source": [
        "#getting the information on the entered city\n",
        "def get_current_data(city):\n",
        "  api_key = '46521bf9fb4a8ee8b1672f3e7eb8f9a4'\n",
        "  url = f\"http://api.openweathermap.org/data/2.5/weather?q={city}&appid={api_key}&units=metric\"\n",
        "  response = requests.get(url) #sends the get request to API(js like we did previously)\n",
        "  data = response.json()\n",
        "  print(data)\n",
        "  if 'name' not in data or 'main' not in data:\n",
        "        print(f\"Error: Could not find weather data for '{city}'. Response: {data}\")\n",
        "        return None\n",
        "  return{\n",
        "      'city' : data['name'],\n",
        "      'current_temp' : round(data['main']['temp']),\n",
        "      'feels_like' : round(data['main']['feels_like']),\n",
        "      'temp_min' : round(data['main']['temp_min']),\n",
        "      'temp_max' : round(data['main']['temp_max']),\n",
        "      'humidity' : round(data['main']['humidity']),\n",
        "      #round is for numerical data only\n",
        "      'description' : data['weather'][0]['description'],\n",
        "      'country' : data['sys']['country'],\n",
        "      'Wind_Gust_Speed' : data['wind']['speed'],\n",
        "      'WindGustDir' : data['wind']['deg'],\n",
        "      'pressure': data['main']['pressure']\n",
        "  }"
      ],
      "metadata": {
        "id": "8rLc_vUHWiKr"
      },
      "execution_count": 13,
      "outputs": []
    },
    {
      "cell_type": "markdown",
      "source": [
        "3. Read historical data"
      ],
      "metadata": {
        "id": "8z0s5O-Mln5v"
      }
    },
    {
      "cell_type": "code",
      "source": [
        "def read_historical_data(filename):\n",
        "  df = pd.read_csv(filename)\n",
        "  df = df.dropna()\n",
        "  df = df.drop_duplicates()\n",
        "  return df"
      ],
      "metadata": {
        "id": "XO3_TI4elnd7"
      },
      "execution_count": 14,
      "outputs": []
    },
    {
      "cell_type": "markdown",
      "source": [
        "4. Preparing data - (a)Converting categorial data into numerical values"
      ],
      "metadata": {
        "id": "06VHXd9_nOWA"
      }
    },
    {
      "cell_type": "code",
      "source": [
        "def prepare_data(data):\n",
        "  le = LabelEncoder() #creates the labelencoder\n",
        "  data['WindGustDir'] = le.fit_transform(data['WindGustDir'])\n",
        "  data['RainTomorrow'] = le.fit_transform(data['RainTomorrow'])\n",
        "\n",
        "\n",
        "  X = data[['MinTemp', 'MaxTemp', 'WindGustDir', 'WindGustSpeed', 'Humidity', 'Pressure', 'Temp']]\n",
        "  y = data['RainTomorrow']\n",
        "\n",
        "  return X, y, le"
      ],
      "metadata": {
        "id": "6t3B5BIilWyA"
      },
      "execution_count": 15,
      "outputs": []
    },
    {
      "cell_type": "markdown",
      "source": [
        "(b)Training the model"
      ],
      "metadata": {
        "id": "ij05XQjdq9GF"
      }
    },
    {
      "cell_type": "code",
      "source": [
        "def train_rain_model(X, y):\n",
        "  X_train, X_test, y_train, y_test = train_test_split(X, y, test_size=0.2, random_state=42)\n",
        "  model = RandomForestClassifier(n_estimators=100, random_state=42)\n",
        "  model.fit(X_train, y_train)\n",
        "  return model\n",
        "\n",
        "  y_pred = model.predict(X_test)\n",
        "  accuracy = mean_squared_error(y_test, y_pred)\n",
        "  print(\"Accuracy: {accuracy}\")\n",
        "\n",
        "  return model"
      ],
      "metadata": {
        "id": "cciwP3o7pyuQ"
      },
      "execution_count": 16,
      "outputs": []
    },
    {
      "cell_type": "markdown",
      "source": [
        "(c)Preparing regression data"
      ],
      "metadata": {
        "id": "BC0e3nFjuEZ3"
      }
    },
    {
      "cell_type": "code",
      "source": [
        "def prepare_regression_data(data, feature):\n",
        "  X,y = [], []\n",
        "\n",
        "  for i in range(len(data)-1):\n",
        "    X.append(data[feature].iloc[i])\n",
        "    y.append(data[feature].iloc[i+1])\n",
        "\n",
        "  X = np.array(X).reshape(-1,1)\n",
        "  y = np.array(y)\n",
        "  return X, y\n"
      ],
      "metadata": {
        "id": "Ks_dVV_1rWDL"
      },
      "execution_count": 17,
      "outputs": []
    },
    {
      "cell_type": "markdown",
      "source": [
        "(d)Training regression data"
      ],
      "metadata": {
        "id": "sq5D1KnLHmBk"
      }
    },
    {
      "cell_type": "code",
      "source": [
        "def train_regression_model(X, y):\n",
        "  model = RandomForestRegressor(n_estimators=100, random_state=42)\n",
        "  model.fit(X, y)\n",
        "  return model"
      ],
      "metadata": {
        "id": "A_Z6QvV2HqqK"
      },
      "execution_count": 18,
      "outputs": []
    },
    {
      "cell_type": "markdown",
      "source": [
        "(e)Predicting"
      ],
      "metadata": {
        "id": "_KLxRDlJIBoI"
      }
    },
    {
      "cell_type": "code",
      "source": [
        "def predict(model, current_value):\n",
        "  prediction = [current_value]\n",
        "\n",
        "  for i in range(5):\n",
        "    next_value = model.predict(np.array(prediction).reshape(-1,1))\n",
        "    prediction.append(next_value[0])\n",
        "\n",
        "  return prediction[1:]"
      ],
      "metadata": {
        "id": "V0MuNVmMIF1I"
      },
      "execution_count": 19,
      "outputs": []
    },
    {
      "cell_type": "markdown",
      "source": [
        "5.**Weather anlysis function**"
      ],
      "metadata": {
        "id": "YqddJshEI7Tn"
      }
    },
    {
      "cell_type": "code",
      "source": [
        "def weather_view():\n",
        "  #getting the city name\n",
        "  city = input(\"Enter the city name: \")\n",
        "  current_weather = get_current_data(city)\n",
        "\n",
        "  if current_weather is None:\n",
        "        print(\"Please enter a valid city name.\")\n",
        "        return\n",
        "\n",
        "  #loading historical data\n",
        "  historical_data = read_historical_data('/content/weather.csv')\n",
        "\n",
        "  #preparing and training the model\n",
        "  X, y, le = prepare_data(historical_data)\n",
        "  rain_model = train_rain_model(X, y)\n",
        "\n",
        "\n",
        "  #map wind direction to compass points\n",
        "  wind_deg = current_weather['WindGustDir'] % 360\n",
        "  compass_points = [\n",
        "        (\"Ν\", 0, 11.25), (\"NNE\", 11.25, 33.75), (\"NE\", 33.75, 56.25),\n",
        "        (\"ΕΝΕ\", 56.25, 78.75), (\"E\", 78.75, 101.25), (\"ESE\", 101.25, 123.75),\n",
        "        (\"SE\", 123.75, 146.25), (\"SSE\", 146.25, 168.75), (\"S\", 168.75, 191.25),\n",
        "        (\"SSW\", 191.25, 213.75), (\"SW\", 213.75, 236.25), (\"WSW\", 236.25, 258.75),\n",
        "        (\"W\", 258.75, 281.25), (\"WNW\", 281.25, 303.75), (\"NW\", 303.75, 326.25),\n",
        "        (\"NNW\", 326.25, 348.75)\n",
        "        ]\n",
        "  compass_direction = next(point for point, start, end in compass_points if start <= wind_deg < end)\n",
        "  compass_direction_encoded = le.transform([compass_direction])[0] if compass_direction in le.classes_ else -1\n",
        "\n",
        "\n",
        "  #fetching current data\n",
        "  current_data ={\n",
        "      'MinTemp' : current_weather['temp_min'],\n",
        "      'MaxTemp' : current_weather['temp_max'],\n",
        "      'WindGustDir' : compass_direction_encoded,\n",
        "      'WindGustSpeed' : current_weather['Wind_Gust_Speed'],\n",
        "      'Humidity' : current_weather['humidity'],\n",
        "      'Pressure' : current_weather['pressure'],\n",
        "      'Temp' : current_weather['current_temp']\n",
        "  }\n",
        "\n",
        "  current_df = pd.DataFrame([current_data])\n",
        "\n",
        "  #predicting rain\n",
        "  rain_prediction = rain_model.predict(current_df)[0]\n",
        "\n",
        "  #predicting future temp and humidity\n",
        "  X_temp, y_temp = prepare_regression_data(historical_data, 'Temp')\n",
        "  X_hum, y_hum = prepare_regression_data(historical_data, 'Humidity')\n",
        "\n",
        "  temp_model = train_regression_model(X_temp, y_temp)\n",
        "  hum_model = train_regression_model(X_hum, y_hum)\n",
        "\n",
        "  temp_prediction = predict(temp_model, current_weather['temp_min'])\n",
        "  hum_prediction = predict(hum_model, current_weather['humidity'])\n",
        "\n",
        "\n",
        "  timezone = pytz.timezone('Asia/Kolkata')\n",
        "  now = datetime.now(timezone)\n",
        "  next_hours = now + timedelta(hours=1)\n",
        "  next_hours = next_hours.replace(minute=0, second=0, microsecond=0)\n",
        "\n",
        "  future_times = [next_hours + timedelta(hours=i) for i in range(5)]\n",
        "\n",
        "  print(f\"City: {city}, {current_weather['country']}\") # Fixed syntax error\n",
        "  print(f\"Current Temperature: {current_weather['current_temp']}°C\")\n",
        "  print(f\"Feels Like: {current_weather['feels_like']}°C\")\n",
        "  print(f\"Wind Gust Speed: {current_weather['Wind_Gust_Speed']} m/s\")\n",
        "  print(f\"Minimum Tempereture:{current_weather['temp_min']}°C\")\n",
        "  print(f\"Maximun Tempereture:{current_weather['temp_max']}°C\")\n",
        "  print(f\"Humidity: {current_weather['humidity']}%\")\n",
        "  print(f\"Description: {current_weather['description']}\")\n",
        "  print(f\"Rain Prediction:{' Yes' if rain_prediction else ' No' } \") # Corrected rain prediction variable\n",
        "\n",
        "\n",
        "weather_view()"
      ],
      "metadata": {
        "colab": {
          "base_uri": "https://localhost:8080/"
        },
        "id": "Kuhr8_NPI1UG",
        "outputId": "42cb48ac-89d7-4488-d539-ae9f43fab6cb"
      },
      "execution_count": 21,
      "outputs": [
        {
          "output_type": "stream",
          "name": "stdout",
          "text": [
            "Enter the city name: delhi\n",
            "{'coord': {'lon': 77.2167, 'lat': 28.6667}, 'weather': [{'id': 701, 'main': 'Mist', 'description': 'mist', 'icon': '50d'}], 'base': 'stations', 'main': {'temp': 29.05, 'feels_like': 36.05, 'temp_min': 29.05, 'temp_max': 29.05, 'pressure': 1000, 'humidity': 89, 'sea_level': 1000, 'grnd_level': 975}, 'visibility': 3000, 'wind': {'speed': 1.03, 'deg': 0}, 'clouds': {'all': 100}, 'dt': 1752225246, 'sys': {'type': 1, 'id': 9165, 'country': 'IN', 'sunrise': 1752192052, 'sunset': 1752241916}, 'timezone': 19800, 'id': 1273294, 'name': 'Delhi', 'cod': 200}\n",
            "City: delhi, IN\n",
            "Current Temperature: 29°C\n",
            "Feels Like: 36°C\n",
            "Wind Gust Speed: 1.03 m/s\n",
            "Minimum Tempereture:29°C\n",
            "Maximun Tempereture:29°C\n",
            "Humidity: 89%\n",
            "Description: mist\n",
            "Rain Prediction: Yes \n"
          ]
        }
      ]
    },
    {
      "cell_type": "code",
      "source": [],
      "metadata": {
        "id": "s8rgzMirJNVG"
      },
      "execution_count": null,
      "outputs": []
    }
  ]
}